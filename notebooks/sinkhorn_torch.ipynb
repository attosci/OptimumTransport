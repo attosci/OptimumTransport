{
 "cells": [
  {
   "cell_type": "code",
   "execution_count": 34,
   "metadata": {},
   "outputs": [],
   "source": [
    "# Pytorch版\n",
    "import torch\n",
    "from torch import nn\n",
    "import matplotlib.pyplot as plt"
   ]
  },
  {
   "cell_type": "code",
   "execution_count": 35,
   "metadata": {},
   "outputs": [],
   "source": [
    "class OTLayer(nn.Module):\n",
    "    def __init__(self, epsilon):\n",
    "        super().__init__()\n",
    "        self.epsilon = epsilon\n",
    "    \n",
    "    def forward(self, C, a, b, L):\n",
    "        K = torch.exp( - C / self.epsilon)\n",
    "        u = torch.ones_like(a)\n",
    "        v = torch.ones_like(b)\n",
    "        for l in range(L):\n",
    "            v = b / torch.mv(torch.t(K), u)\n",
    "            u = a / torch.mv(K, v)\n",
    "        f = self.epsilon * torch.log(u)\n",
    "        g = self.epsilon * torch.log(v)\n",
    "        return f, g, torch.diag(u) @ K @ torch.diag(v)"
   ]
  },
  {
   "cell_type": "code",
   "execution_count": 31,
   "metadata": {},
   "outputs": [],
   "source": [
    "C = torch.tensor([\n",
    "    [30., 80., 40., 90.],\n",
    "    [20., 50., 90., 80.],\n",
    "    [80., 70., 30., 40.],\n",
    "    [70., 50., 10., 60.]\n",
    "    ], requires_grad=True)\n",
    "\n",
    "a = torch.ones(4) / 4.\n",
    "b = torch.ones(4) / 4."
   ]
  },
  {
   "cell_type": "code",
   "execution_count": 32,
   "metadata": {},
   "outputs": [
    {
     "name": "stdout",
     "output_type": "stream",
     "text": [
      "tensor([12.1295, -0.1043,  0.0000, -2.2801], grad_fn=<MulBackward0>) tensor([16.4842, 48.6047, 10.7869, 38.6137], grad_fn=<MulBackward0>) tensor([[2.5000e-01, 4.2952e-09, 3.8080e-08, 8.9331e-18],\n",
      "        [2.6780e-02, 2.2322e-01, 3.5718e-35, 9.5690e-19],\n",
      "        [2.6027e-28, 5.1067e-10, 4.5274e-09, 2.5000e-01],\n",
      "        [5.8635e-25, 2.5340e-02, 2.2466e-01, 5.2703e-11]],\n",
      "       grad_fn=<MmBackward0>)\n"
     ]
    }
   ],
   "source": [
    "otl = OTLayer(1.0)\n",
    "f, g, P = otl(C, a, b, 10)\n",
    "print(f, g, P)"
   ]
  },
  {
   "cell_type": "code",
   "execution_count": 33,
   "metadata": {},
   "outputs": [
    {
     "data": {
      "text/plain": [
       "<matplotlib.collections.PolyCollection at 0x18a9073b9a0>"
      ]
     },
     "execution_count": 33,
     "metadata": {},
     "output_type": "execute_result"
    },
    {
     "data": {
      "image/png": "[encoded data removed]",
      "text/plain": [
       "<Figure size 640x480 with 1 Axes>"
      ]
     },
     "metadata": {},
     "output_type": "display_data"
    }
   ],
   "source": [
    "plt.pcolor(P.detach().numpy().copy(), cmap=plt.cm.Blues)"
   ]
  }
 ],
 "metadata": {
  "kernelspec": {
   "display_name": "Python 3",
   "language": "python",
   "name": "python3"
  },
  "language_info": {
   "codemirror_mode": {
    "name": "ipython",
    "version": 3
   },
   "file_extension": ".py",
   "mimetype": "text/x-python",
   "name": "python",
   "nbconvert_exporter": "python",
   "pygments_lexer": "ipython3",
   "version": "3.10.11"
  }
 },
 "nbformat": 4,
 "nbformat_minor": 2
}
